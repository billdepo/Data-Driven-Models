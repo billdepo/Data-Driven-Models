{
 "cells": [
  {
   "attachments": {},
   "cell_type": "markdown",
   "metadata": {},
   "source": [
    "# Assignment 2"
   ]
  },
  {
   "attachments": {},
   "cell_type": "markdown",
   "metadata": {},
   "source": [
    "## 1) Derive problem equations"
   ]
  },
  {
   "cell_type": "code",
   "execution_count": 1,
   "metadata": {},
   "outputs": [],
   "source": [
    "import numpy as np"
   ]
  },
  {
   "cell_type": "code",
   "execution_count": 43,
   "metadata": {},
   "outputs": [
    {
     "data": {
      "image/png": "[encoded data removed]",
      "text/plain": [
       "<Figure size 640x480 with 1 Axes>"
      ]
     },
     "metadata": {},
     "output_type": "display_data"
    }
   ],
   "source": [
    "# plot the grid\n",
    "\n",
    "import matplotlib.pyplot as plt\n",
    "import itertools\n",
    "\n",
    "# define the lower and upper limits for x and y\n",
    "minX, maxX, minY, maxY = 1, 39, 1, 39\n",
    "# create one-dimensional arrays for x and y\n",
    "x = np.linspace(minX, maxX, (maxX-minX)+1)\n",
    "y = np.linspace(minY, maxY, (maxY-minY)+1)\n",
    "\n",
    "horizontal_peripheral_pts = itertools.product(range(41), (0, 40))\n",
    "vertical_peripheral_pts = itertools.product((0, 40), range(41))\n",
    "pts = itertools.product(x, y)\n",
    "plt.scatter(*zip(*pts), marker='o', s=30, color='blue')\n",
    "plt.scatter(*zip(*horizontal_peripheral_pts), marker='o', s=30, color='red')\n",
    "plt.scatter(*zip(*vertical_peripheral_pts), marker='o', s=30, color='red')\n",
    "\n",
    "X, Y = np.meshgrid(x, y)\n",
    "plt.grid()\n",
    "plt.show()\n"
   ]
  },
  {
   "cell_type": "code",
   "execution_count": 2,
   "metadata": {},
   "outputs": [],
   "source": [
    "def K_matrix_generation(grid_dim):\n",
    "    \n",
    "    grid_dim_squared = grid_dim**2\n",
    "    line_multiple = grid_dim - 1 \n",
    "    K = np.zeros((grid_dim_squared, grid_dim_squared))\n",
    "    # iterate over the lines of the matrix\n",
    "    for i in range(grid_dim_squared):\n",
    "        np.fill_diagonal(K, 4)\n",
    "        # if the left neighbor on same x axis then assign -1\n",
    "        if (i-1>=0) and (i-1<=grid_dim_squared-1):\n",
    "            K[i][i-1] = -1\n",
    "        # if the right neighbor on same x axis then assign -1\n",
    "        if (i+1>=0) and (i+1<=grid_dim_squared-1):\n",
    "            K[i][i+1] = -1\n",
    "        if (i-1-line_multiple>=0) and (i-1-line_multiple<=grid_dim_squared-1):\n",
    "            K[i][i-1-line_multiple] = -1  \n",
    "        if (i+1+line_multiple>=0) and (i+1+line_multiple<=grid_dim_squared-1):\n",
    "            K[i][i+1+line_multiple] = -1  \n",
    "    return K\n",
    "\n",
    "\n",
    "K = K_matrix_generation(39)"
   ]
  },
  {
   "cell_type": "code",
   "execution_count": 3,
   "metadata": {},
   "outputs": [
    {
     "data": {
      "text/plain": [
       "array([[ 4., -1.,  0., ...,  0.,  0.,  0.],\n",
       "       [-1.,  4., -1., ...,  0.,  0.,  0.],\n",
       "       [ 0., -1.,  4., ...,  0.,  0.,  0.],\n",
       "       ...,\n",
       "       [ 0.,  0.,  0., ...,  4., -1.,  0.],\n",
       "       [ 0.,  0.,  0., ..., -1.,  4., -1.],\n",
       "       [ 0.,  0.,  0., ...,  0., -1.,  4.]])"
      ]
     },
     "execution_count": 3,
     "metadata": {},
     "output_type": "execute_result"
    }
   ],
   "source": [
    "K"
   ]
  },
  {
   "cell_type": "code",
   "execution_count": 4,
   "metadata": {},
   "outputs": [],
   "source": [
    "def b_vector_generation(grid_dim, r):\n",
    "\n",
    "    h = 1 / (grid_dim + 1)\n",
    "    b = np.zeros((grid_dim, grid_dim))\n",
    "\n",
    "    for x_minus_1 in range(grid_dim):\n",
    "        x = (x_minus_1 + 1) * h\n",
    "        for y_minus_1 in range(grid_dim):\n",
    "            y = (y_minus_1 + 1) * h\n",
    "            b[x_minus_1][y_minus_1] = 100 * np.exp(-((x-0.55)**2 + (y-0.45)**2) / r)\n",
    "    \n",
    "    return (h**2) * b"
   ]
  },
  {
   "cell_type": "code",
   "execution_count": 5,
   "metadata": {},
   "outputs": [],
   "source": [
    "def solve_linear_system(K, b):\n",
    "    grid_dim = b.shape[0]\n",
    "    b_flattened = b.flatten()\n",
    "    t = np.linalg.solve(K, b_flattened)\n",
    "    return t\n",
    "\n"
   ]
  },
  {
   "cell_type": "code",
   "execution_count": 6,
   "metadata": {},
   "outputs": [
    {
     "name": "stdout",
     "output_type": "stream",
     "text": [
      "Sampled r=0.053980481684653574.\n"
     ]
    }
   ],
   "source": [
    "grid_dimension = 39\n",
    "\n",
    "# solve equation for t, taking a randomly generated r\n",
    "r_mean_value = 0.05\n",
    "r_s_value = 0.005\n",
    "r = np.random.normal(r_mean_value, r_s_value)\n",
    "print(f'Sampled r={r}.')\n",
    "\n",
    "b = b_vector_generation(grid_dimension, r=r)\n",
    "\n",
    "t = solve_linear_system(K, b)\n",
    "\n",
    "\n",
    "# add to T padding for where T(x,y)=0\n",
    "t = t.reshape(grid_dimension, grid_dimension)\n",
    "t = np.pad(t, 1, 'constant')\n"
   ]
  },
  {
   "cell_type": "code",
   "execution_count": 7,
   "metadata": {},
   "outputs": [
    {
     "name": "stdout",
     "output_type": "stream",
     "text": [
      "Shape of t is: 41x41\n"
     ]
    }
   ],
   "source": [
    "print(f'Shape of t is: {t.shape[0]}x{t.shape[1]}')"
   ]
  },
  {
   "cell_type": "code",
   "execution_count": 8,
   "metadata": {},
   "outputs": [
    {
     "data": {
      "text/plain": [
       "array([[0.        , 0.        , 0.        , ..., 0.        , 0.        ,\n",
       "        0.        ],\n",
       "       [0.        , 0.09753253, 0.13437531, ..., 0.19448271, 0.21197044,\n",
       "        0.        ],\n",
       "       [0.        , 0.25574147, 0.28816328, ..., 0.37952153, 0.3976553 ,\n",
       "        0.        ],\n",
       "       ...,\n",
       "       [0.        , 0.44723827, 0.4351445 , ..., 0.31423375, 0.28247199,\n",
       "        0.        ],\n",
       "       [0.        , 0.23817483, 0.22291153, ..., 0.14633421, 0.10720489,\n",
       "        0.        ],\n",
       "       [0.        , 0.        , 0.        , ..., 0.        , 0.        ,\n",
       "        0.        ]])"
      ]
     },
     "execution_count": 8,
     "metadata": {},
     "output_type": "execute_result"
    }
   ],
   "source": [
    "t"
   ]
  },
  {
   "cell_type": "code",
   "execution_count": 18,
   "metadata": {},
   "outputs": [
    {
     "data": {
      "image/png": "[encoded data removed]",
      "text/plain": [
       "<Figure size 640x480 with 2 Axes>"
      ]
     },
     "metadata": {},
     "output_type": "display_data"
    }
   ],
   "source": [
    "import matplotlib.pyplot as plt\n",
    "\n",
    "def heatmap2d(arr: np.ndarray):\n",
    "    plt.imshow(arr, cmap='OrRd')\n",
    "    plt.colorbar()\n",
    "    plt.show()\n",
    "\n",
    "heatmap2d(t)"
   ]
  },
  {
   "attachments": {},
   "cell_type": "markdown",
   "metadata": {},
   "source": [
    "## 2) Monte Carlo Simulation\n",
    "- independent variable: r (sampled from known pdf)\n",
    "- dependent variable: t (solving linear system of equations)\n",
    "\n",
    "We run a number of simulations, where we generate values for r, from which we can then calculate the t table and the value in the point (0.5, 0.5) which is the center of the grid. This point corresponds to the (20, 20) point in the t table.\n"
   ]
  },
  {
   "cell_type": "code",
   "execution_count": 19,
   "metadata": {},
   "outputs": [
    {
     "data": {
      "text/plain": [
       "3.897747283488659"
      ]
     },
     "execution_count": 19,
     "metadata": {},
     "output_type": "execute_result"
    }
   ],
   "source": [
    "t[20, 20]"
   ]
  },
  {
   "cell_type": "code",
   "execution_count": 22,
   "metadata": {},
   "outputs": [],
   "source": [
    "mc_sims = 20000  # number of simulations\n",
    "\n",
    "t_center = np.array([])  # t values for point (0.5, 0.5) in the center of the plate (in grid has idxs (20, 20))\n",
    "\n",
    "for sim in range(mc_sims):\n",
    "    # sample r value\n",
    "    r = np.random.normal(r_mean_value, r_s_value)\n",
    "\n",
    "    # calculate t temperatures table\n",
    "    b = b_vector_generation(grid_dimension, r=r)\n",
    "    t = solve_linear_system(K, b)\n",
    "    t = t.reshape(grid_dimension, grid_dimension) \n",
    "    t = np.pad(t, 1, 'constant')   # add to T padding for where T(x,y)=0 - default padding value is 0 therefore omitted\n",
    "\n",
    "    t_center = np.append(t_center, t[20, 20])"
   ]
  },
  {
   "cell_type": "code",
   "execution_count": 25,
   "metadata": {},
   "outputs": [
    {
     "data": {
      "text/plain": [
       "(20000,)"
      ]
     },
     "execution_count": 25,
     "metadata": {},
     "output_type": "execute_result"
    }
   ],
   "source": [
    "t_center.shape"
   ]
  },
  {
   "cell_type": "code",
   "execution_count": null,
   "metadata": {},
   "outputs": [],
   "source": []
  },
  {
   "attachments": {},
   "cell_type": "markdown",
   "metadata": {},
   "source": [
    "# Spyros"
   ]
  },
  {
   "cell_type": "code",
   "execution_count": 180,
   "metadata": {},
   "outputs": [],
   "source": [
    "\n",
    "def b_vector(ppdim = 39, r = 0.05):\n",
    "\n",
    "    b, idx = np.empty(ppdim**2), 0\n",
    "    h = 1/(ppdim+1)\n",
    "    for i in range(0,ppdim):\n",
    "        for j in range(0,ppdim):\n",
    "            x, y = (i+1)*h, (j+1)*h # lattice points\n",
    "            b[idx] = (h**2)*100.0*np.exp(-((x-0.55)**2+(y-0.45)**2)/r)\n",
    "            idx += 1\n",
    "    return b\n",
    "\n",
    "def solve_system(invK, ppdim = 39, r = 0.05, full=True):\n",
    "\n",
    "    b = b_vector(ppdim, r)\n",
    "    t = np.matmul(invK,b) # Kt = b\n",
    "    if full:\n",
    "        t = t.reshape(ppdim,ppdim) # bring into grid form\n",
    "        t = np.pad(t, 1, mode='constant') # add border\n",
    "        t = t.T\n",
    "    return t"
   ]
  },
  {
   "cell_type": "code",
   "execution_count": 191,
   "metadata": {},
   "outputs": [
    {
     "data": {
      "text/plain": [
       "array([[0.        , 0.        , 0.        , ..., 0.        , 0.        ,\n",
       "        0.        ],\n",
       "       [0.        , 0.09048101, 0.23726217, ..., 0.41502764, 0.22100787,\n",
       "        0.        ],\n",
       "       [0.        , 0.12465506, 0.26732865, ..., 0.40379783, 0.2068372 ,\n",
       "        0.        ],\n",
       "       ...,\n",
       "       [0.        , 0.18044428, 0.35213349, ..., 0.29159044, 0.13578374,\n",
       "        0.        ],\n",
       "       [0.        , 0.19666479, 0.36895171, ..., 0.26212116, 0.09947792,\n",
       "        0.        ],\n",
       "       [0.        , 0.        , 0.        , ..., 0.        , 0.        ,\n",
       "        0.        ]])"
      ]
     },
     "execution_count": 191,
     "metadata": {},
     "output_type": "execute_result"
    }
   ],
   "source": [
    "t_spyros = solve_system(np.linalg.inv(K))\n",
    "t_spyros"
   ]
  }
 ],
 "metadata": {
  "kernelspec": {
   "display_name": "datadriven",
   "language": "python",
   "name": "python3"
  },
  "language_info": {
   "codemirror_mode": {
    "name": "ipython",
    "version": 3
   },
   "file_extension": ".py",
   "mimetype": "text/x-python",
   "name": "python",
   "nbconvert_exporter": "python",
   "pygments_lexer": "ipython3",
   "version": "3.10.9"
  },
  "orig_nbformat": 4
 },
 "nbformat": 4,
 "nbformat_minor": 2
}
